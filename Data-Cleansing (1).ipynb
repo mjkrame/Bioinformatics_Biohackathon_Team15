{
 "cells": [
  {
   "cell_type": "code",
   "execution_count": 1,
   "id": "bac97ac0",
   "metadata": {},
   "outputs": [],
   "source": [
    "import pandas as pd\n",
    "import numpy as np\n",
    "\n",
    "data = pd.read_csv(\"GTEx Portal.csv\")"
   ]
  },
  {
   "cell_type": "code",
   "execution_count": 3,
   "id": "653bb021",
   "metadata": {},
   "outputs": [
    {
     "data": {
      "text/html": [
       "<div>\n",
       "<style scoped>\n",
       "    .dataframe tbody tr th:only-of-type {\n",
       "        vertical-align: middle;\n",
       "    }\n",
       "\n",
       "    .dataframe tbody tr th {\n",
       "        vertical-align: top;\n",
       "    }\n",
       "\n",
       "    .dataframe thead th {\n",
       "        text-align: right;\n",
       "    }\n",
       "</style>\n",
       "<table border=\"1\" class=\"dataframe\">\n",
       "  <thead>\n",
       "    <tr style=\"text-align: right;\">\n",
       "      <th></th>\n",
       "      <th>Gencode Id</th>\n",
       "      <th>Gene Symbol</th>\n",
       "      <th>Variant Id</th>\n",
       "      <th>SNP Id</th>\n",
       "      <th>P-Value</th>\n",
       "      <th>NES</th>\n",
       "      <th>Tissue</th>\n",
       "    </tr>\n",
       "  </thead>\n",
       "  <tbody>\n",
       "    <tr>\n",
       "      <th>0</th>\n",
       "      <td>ENSG00000197386.14</td>\n",
       "      <td>HTT</td>\n",
       "      <td>chr4_3691195_T_A_b38</td>\n",
       "      <td>rs7690442</td>\n",
       "      <td>5.000000e-08</td>\n",
       "      <td>0.61</td>\n",
       "      <td>Adipose - Subcutaneous</td>\n",
       "    </tr>\n",
       "    <tr>\n",
       "      <th>1</th>\n",
       "      <td>ENSG00000197386.14</td>\n",
       "      <td>HTT</td>\n",
       "      <td>chr4_3041785_C_G_b38</td>\n",
       "      <td>rs2857851</td>\n",
       "      <td>1.900000e-07</td>\n",
       "      <td>0.12</td>\n",
       "      <td>Adipose - Subcutaneous</td>\n",
       "    </tr>\n",
       "    <tr>\n",
       "      <th>2</th>\n",
       "      <td>ENSG00000197386.14</td>\n",
       "      <td>HTT</td>\n",
       "      <td>chr4_3041786_A_C_b38</td>\n",
       "      <td>rs2857850</td>\n",
       "      <td>1.900000e-07</td>\n",
       "      <td>0.12</td>\n",
       "      <td>Adipose - Subcutaneous</td>\n",
       "    </tr>\n",
       "    <tr>\n",
       "      <th>3</th>\n",
       "      <td>ENSG00000197386.14</td>\n",
       "      <td>HTT</td>\n",
       "      <td>chr4_3690346_G_A_b38</td>\n",
       "      <td>rs75002057</td>\n",
       "      <td>3.500000e-07</td>\n",
       "      <td>0.56</td>\n",
       "      <td>Adipose - Subcutaneous</td>\n",
       "    </tr>\n",
       "    <tr>\n",
       "      <th>4</th>\n",
       "      <td>ENSG00000197386.14</td>\n",
       "      <td>HTT</td>\n",
       "      <td>chr4_3041458_A_G_b38</td>\n",
       "      <td>rs2857853</td>\n",
       "      <td>5.000000e-07</td>\n",
       "      <td>0.12</td>\n",
       "      <td>Adipose - Subcutaneous</td>\n",
       "    </tr>\n",
       "  </tbody>\n",
       "</table>\n",
       "</div>"
      ],
      "text/plain": [
       "           Gencode Id Gene Symbol            Variant Id      SNP Id  \\\n",
       "0  ENSG00000197386.14         HTT  chr4_3691195_T_A_b38   rs7690442   \n",
       "1  ENSG00000197386.14         HTT  chr4_3041785_C_G_b38   rs2857851   \n",
       "2  ENSG00000197386.14         HTT  chr4_3041786_A_C_b38   rs2857850   \n",
       "3  ENSG00000197386.14         HTT  chr4_3690346_G_A_b38  rs75002057   \n",
       "4  ENSG00000197386.14         HTT  chr4_3041458_A_G_b38   rs2857853   \n",
       "\n",
       "        P-Value   NES                  Tissue  \n",
       "0  5.000000e-08  0.61  Adipose - Subcutaneous  \n",
       "1  1.900000e-07  0.12  Adipose - Subcutaneous  \n",
       "2  1.900000e-07  0.12  Adipose - Subcutaneous  \n",
       "3  3.500000e-07  0.56  Adipose - Subcutaneous  \n",
       "4  5.000000e-07  0.12  Adipose - Subcutaneous  "
      ]
     },
     "execution_count": 3,
     "metadata": {},
     "output_type": "execute_result"
    }
   ],
   "source": [
    "data.head()"
   ]
  },
  {
   "cell_type": "code",
   "execution_count": 7,
   "id": "725226f7",
   "metadata": {},
   "outputs": [
    {
     "data": {
      "text/plain": [
       "Brain - Frontal Cortex (BA9)                 24\n",
       "Brain - Caudate (basal ganglia)               9\n",
       "Brain - Cerebellum                            7\n",
       "Brain - Cortex                                3\n",
       "Brain - Anterior qcingulate cortex (BA24)     1\n",
       "Name: Tissue, dtype: int64"
      ]
     },
     "execution_count": 7,
     "metadata": {},
     "output_type": "execute_result"
    }
   ],
   "source": [
    "tissue_data = data[data['Tissue'].str.startswith('Brain', na=False)]\n",
    "\n",
    "#Seeing how many we have of each type of brain tissue and ensuring we correctly filtered for only brain tissues\n",
    "tissue_data['Tissue'].value_counts()"
   ]
  },
  {
   "cell_type": "code",
   "execution_count": 9,
   "id": "b234ba7e",
   "metadata": {},
   "outputs": [
    {
     "data": {
      "text/html": [
       "<div>\n",
       "<style scoped>\n",
       "    .dataframe tbody tr th:only-of-type {\n",
       "        vertical-align: middle;\n",
       "    }\n",
       "\n",
       "    .dataframe tbody tr th {\n",
       "        vertical-align: top;\n",
       "    }\n",
       "\n",
       "    .dataframe thead th {\n",
       "        text-align: right;\n",
       "    }\n",
       "</style>\n",
       "<table border=\"1\" class=\"dataframe\">\n",
       "  <thead>\n",
       "    <tr style=\"text-align: right;\">\n",
       "      <th></th>\n",
       "      <th>Gencode Id</th>\n",
       "      <th>Gene Symbol</th>\n",
       "      <th>Variant Id</th>\n",
       "      <th>SNP Id</th>\n",
       "      <th>P-Value</th>\n",
       "      <th>NES</th>\n",
       "      <th>Tissue</th>\n",
       "    </tr>\n",
       "  </thead>\n",
       "  <tbody>\n",
       "    <tr>\n",
       "      <th>48</th>\n",
       "      <td>ENSG00000197386.14</td>\n",
       "      <td>HTT</td>\n",
       "      <td>chr4_3563897_G_C_b38</td>\n",
       "      <td>rs13106262</td>\n",
       "      <td>3.000000e-07</td>\n",
       "      <td>-0.23</td>\n",
       "      <td>Brain - Caudate (basal ganglia)</td>\n",
       "    </tr>\n",
       "    <tr>\n",
       "      <th>64</th>\n",
       "      <td>ENSG00000197386.14</td>\n",
       "      <td>HTT</td>\n",
       "      <td>chr4_3522136_A_G_b38</td>\n",
       "      <td>rs10007398</td>\n",
       "      <td>6.600000e-06</td>\n",
       "      <td>0.11</td>\n",
       "      <td>Brain - Cortex</td>\n",
       "    </tr>\n",
       "    <tr>\n",
       "      <th>67</th>\n",
       "      <td>ENSG00000197386.14</td>\n",
       "      <td>HTT</td>\n",
       "      <td>chr4_3074009_C_T_b38</td>\n",
       "      <td>rs28616835</td>\n",
       "      <td>6.900000e-06</td>\n",
       "      <td>-0.29</td>\n",
       "      <td>Brain - Frontal Cortex (BA9)</td>\n",
       "    </tr>\n",
       "    <tr>\n",
       "      <th>68</th>\n",
       "      <td>ENSG00000197386.14</td>\n",
       "      <td>HTT</td>\n",
       "      <td>chr4_3072376_G_T_b38</td>\n",
       "      <td>rs112435590</td>\n",
       "      <td>8.000000e-06</td>\n",
       "      <td>-0.28</td>\n",
       "      <td>Brain - Frontal Cortex (BA9)</td>\n",
       "    </tr>\n",
       "    <tr>\n",
       "      <th>69</th>\n",
       "      <td>ENSG00000197386.14</td>\n",
       "      <td>HTT</td>\n",
       "      <td>chr4_3074530_T_TGCGGGG_b38</td>\n",
       "      <td>rs113331544</td>\n",
       "      <td>8.000000e-06</td>\n",
       "      <td>-0.28</td>\n",
       "      <td>Brain - Frontal Cortex (BA9)</td>\n",
       "    </tr>\n",
       "    <tr>\n",
       "      <th>70</th>\n",
       "      <td>ENSG00000197386.14</td>\n",
       "      <td>HTT</td>\n",
       "      <td>chr4_3075310_T_C_b38</td>\n",
       "      <td>rs10009935</td>\n",
       "      <td>8.000000e-06</td>\n",
       "      <td>-0.28</td>\n",
       "      <td>Brain - Frontal Cortex (BA9)</td>\n",
       "    </tr>\n",
       "  </tbody>\n",
       "</table>\n",
       "</div>"
      ],
      "text/plain": [
       "            Gencode Id Gene Symbol                  Variant Id       SNP Id  \\\n",
       "48  ENSG00000197386.14         HTT        chr4_3563897_G_C_b38   rs13106262   \n",
       "64  ENSG00000197386.14         HTT        chr4_3522136_A_G_b38   rs10007398   \n",
       "67  ENSG00000197386.14         HTT        chr4_3074009_C_T_b38   rs28616835   \n",
       "68  ENSG00000197386.14         HTT        chr4_3072376_G_T_b38  rs112435590   \n",
       "69  ENSG00000197386.14         HTT  chr4_3074530_T_TGCGGGG_b38  rs113331544   \n",
       "70  ENSG00000197386.14         HTT        chr4_3075310_T_C_b38   rs10009935   \n",
       "\n",
       "         P-Value   NES                           Tissue  \n",
       "48  3.000000e-07 -0.23  Brain - Caudate (basal ganglia)  \n",
       "64  6.600000e-06  0.11                   Brain - Cortex  \n",
       "67  6.900000e-06 -0.29     Brain - Frontal Cortex (BA9)  \n",
       "68  8.000000e-06 -0.28     Brain - Frontal Cortex (BA9)  \n",
       "69  8.000000e-06 -0.28     Brain - Frontal Cortex (BA9)  \n",
       "70  8.000000e-06 -0.28     Brain - Frontal Cortex (BA9)  "
      ]
     },
     "execution_count": 9,
     "metadata": {},
     "output_type": "execute_result"
    }
   ],
   "source": [
    "# Significant values\n",
    "sig_data = tissue_data[tissue_data['P-Value'] < 1e-5]\n",
    "\n",
    "# Print or use the filtered data\n",
    "sig_data"
   ]
  },
  {
   "cell_type": "code",
   "execution_count": 10,
   "id": "580e13e4",
   "metadata": {},
   "outputs": [
    {
     "data": {
      "text/plain": [
       "array(['rs13106262', 'rs10007398', 'rs28616835', 'rs112435590',\n",
       "       'rs113331544', 'rs10009935'], dtype=object)"
      ]
     },
     "execution_count": 10,
     "metadata": {},
     "output_type": "execute_result"
    }
   ],
   "source": [
    "sig_data['SNP Id'].unique()"
   ]
  },
  {
   "cell_type": "code",
   "execution_count": 16,
   "id": "75a5daa1",
   "metadata": {},
   "outputs": [
    {
     "data": {
      "text/plain": [
       "Gencode Id                  ENSG00000197386.14\n",
       "Gene Symbol                                HTT\n",
       "Variant Id                chr4_3563897_G_C_b38\n",
       "SNP Id                              rs13106262\n",
       "P-Value                                    0.0\n",
       "NES                                      -0.23\n",
       "Tissue         Brain - Caudate (basal ganglia)\n",
       "Name: 48, dtype: object"
      ]
     },
     "execution_count": 16,
     "metadata": {},
     "output_type": "execute_result"
    }
   ],
   "source": [
    "# Getting info for row 1\n",
    "sig_data.iloc[0]"
   ]
  },
  {
   "cell_type": "code",
   "execution_count": 17,
   "id": "dab4fa27",
   "metadata": {},
   "outputs": [
    {
     "data": {
      "text/plain": [
       "Gencode Id       ENSG00000197386.14\n",
       "Gene Symbol                     HTT\n",
       "Variant Id     chr4_3522136_A_G_b38\n",
       "SNP Id                   rs10007398\n",
       "P-Value                    0.000007\n",
       "NES                            0.11\n",
       "Tissue               Brain - Cortex\n",
       "Name: 64, dtype: object"
      ]
     },
     "execution_count": 17,
     "metadata": {},
     "output_type": "execute_result"
    }
   ],
   "source": [
    "#getting info for row 2\n",
    "sig_data.iloc[1]"
   ]
  },
  {
   "cell_type": "code",
   "execution_count": null,
   "id": "852934f4",
   "metadata": {},
   "outputs": [],
   "source": []
  }
 ],
 "metadata": {
  "kernelspec": {
   "display_name": "Python 3 (ipykernel)",
   "language": "python",
   "name": "python3"
  },
  "language_info": {
   "codemirror_mode": {
    "name": "ipython",
    "version": 3
   },
   "file_extension": ".py",
   "mimetype": "text/x-python",
   "name": "python",
   "nbconvert_exporter": "python",
   "pygments_lexer": "ipython3",
   "version": "3.10.9"
  }
 },
 "nbformat": 4,
 "nbformat_minor": 5
}
